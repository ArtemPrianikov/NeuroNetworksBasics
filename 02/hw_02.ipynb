{
 "cells": [
  {
   "cell_type": "markdown",
   "metadata": {},
   "source": [
    "# ДЗ 2. Неронные сети"
   ]
  },
  {
   "cell_type": "markdown",
   "metadata": {},
   "source": [
    "## Задание 1\n",
    "\n",
    "Попробуйте обучить, нейронную сеть на Keras(рассмотренную на уроке) на датасете MNIST с другими параметрами. \n",
    "Опишите в комментарии к уроку - какой результата вы добились от нейросети? Что помогло вам улучшить ее точность?"
   ]
  },
  {
   "cell_type": "code",
   "execution_count": 16,
   "metadata": {},
   "outputs": [],
   "source": [
    "# The full neural network code!\n",
    "###############################\n",
    "import numpy as np\n",
    "import mnist\n",
    "from keras.models import Sequential\n",
    "from keras.layers import Dense\n",
    "from keras.utils import to_categorical\n",
    "import datetime\n",
    "import time"
   ]
  },
  {
   "cell_type": "code",
   "execution_count": 17,
   "metadata": {},
   "outputs": [
    {
     "name": "stdout",
     "output_type": "stream",
     "text": [
      "(60000, 784)\n",
      "(10000, 784)\n"
     ]
    }
   ],
   "source": [
    "train_images = mnist.train_images()\n",
    "train_labels = mnist.train_labels()\n",
    "test_images = mnist.test_images()\n",
    "test_labels = mnist.test_labels()\n",
    "\n",
    "# Normalize the images.\n",
    "train_images = (train_images / 255) - 0.5\n",
    "test_images = (test_images / 255) - 0.5\n",
    "\n",
    "# Flatten the images.\n",
    "train_images = train_images.reshape((-1, 784))\n",
    "test_images = test_images.reshape((-1, 784))\n",
    "\n",
    "print(train_images.shape) # (60000, 784)\n",
    "print(test_images.shape)  # (10000, 784)"
   ]
  },
  {
   "cell_type": "code",
   "execution_count": 50,
   "metadata": {},
   "outputs": [],
   "source": [
    "# пользовательская функция для расчёта точности предсказания\n",
    "def check_accuracy(fact, pred):\n",
    "    acc = 0\n",
    "    errors = 0\n",
    "    for x in range(len(fact)):\n",
    "        fact_x = fact[x]\n",
    "        pred_x = pred[x]\n",
    "        if fact_x != pred_x:\n",
    "            errors +=1\n",
    "    attempts_qty = x+1\n",
    "    acc = (attempts_qty-errors)/attempts_qty\n",
    "    return acc"
   ]
  },
  {
   "cell_type": "code",
   "execution_count": 53,
   "metadata": {},
   "outputs": [],
   "source": [
    "# задаём параметры для перебора\n",
    "layer1 = [16, 64, 256]\n",
    "layer2 = [16, 64, 256]\n",
    "epochs = [5,15,50]\n",
    "batches = [16, 64, 256]"
   ]
  },
  {
   "cell_type": "code",
   "execution_count": 54,
   "metadata": {},
   "outputs": [],
   "source": [
    "train_images = mnist.train_images()\n",
    "train_labels = mnist.train_labels()\n",
    "test_images = mnist.test_images()\n",
    "test_labels = mnist.test_labels()"
   ]
  },
  {
   "cell_type": "code",
   "execution_count": 55,
   "metadata": {},
   "outputs": [],
   "source": [
    "# Normalize the images.\n",
    "train_images = (train_images / 255)\n",
    "test_images = (test_images / 255)\n",
    "\n",
    "# Flatten the images.\n",
    "train_images = train_images.reshape((-1, 784))\n",
    "test_images = test_images.reshape((-1, 784))"
   ]
  },
  {
   "cell_type": "code",
   "execution_count": 59,
   "metadata": {},
   "outputs": [
    {
     "name": "stdout",
     "output_type": "stream",
     "text": [
      "{'counter': 1, '1st_layer_qty': 16, '2nd_layer_qty': 16, 'epochs': 5, 'batch_qty': 16, 'acc': 0.9378, 'time': 14.190089225769043}\n",
      "{'counter': 2, '1st_layer_qty': 16, '2nd_layer_qty': 16, 'epochs': 5, 'batch_qty': 64, 'acc': 0.9288, 'time': 4.855035781860352}\n",
      "{'counter': 3, '1st_layer_qty': 16, '2nd_layer_qty': 16, 'epochs': 5, 'batch_qty': 256, 'acc': 0.917, 'time': 2.561598300933838}\n",
      "{'counter': 4, '1st_layer_qty': 16, '2nd_layer_qty': 16, 'epochs': 15, 'batch_qty': 16, 'acc': 0.9376, 'time': 40.64923024177551}\n",
      "{'counter': 5, '1st_layer_qty': 16, '2nd_layer_qty': 16, 'epochs': 15, 'batch_qty': 64, 'acc': 0.942, 'time': 13.21131181716919}\n",
      "{'counter': 6, '1st_layer_qty': 16, '2nd_layer_qty': 16, 'epochs': 15, 'batch_qty': 256, 'acc': 0.9438, 'time': 6.148969888687134}\n",
      "{'counter': 7, '1st_layer_qty': 16, '2nd_layer_qty': 16, 'epochs': 50, 'batch_qty': 16, 'acc': 0.943, 'time': 145.3242130279541}\n",
      "{'counter': 8, '1st_layer_qty': 16, '2nd_layer_qty': 16, 'epochs': 50, 'batch_qty': 64, 'acc': 0.946, 'time': 47.61101579666138}\n",
      "{'counter': 9, '1st_layer_qty': 16, '2nd_layer_qty': 16, 'epochs': 50, 'batch_qty': 256, 'acc': 0.941, 'time': 19.25610589981079}\n",
      "{'counter': 10, '1st_layer_qty': 16, '2nd_layer_qty': 64, 'epochs': 5, 'batch_qty': 16, 'acc': 0.9462, 'time': 15.555896043777466}\n",
      "{'counter': 11, '1st_layer_qty': 16, '2nd_layer_qty': 64, 'epochs': 5, 'batch_qty': 64, 'acc': 0.9428, 'time': 5.023535966873169}\n",
      "{'counter': 12, '1st_layer_qty': 16, '2nd_layer_qty': 64, 'epochs': 5, 'batch_qty': 256, 'acc': 0.9298, 'time': 2.4370830059051514}\n",
      "{'counter': 13, '1st_layer_qty': 16, '2nd_layer_qty': 64, 'epochs': 15, 'batch_qty': 16, 'acc': 0.95, 'time': 48.521682024002075}\n",
      "{'counter': 14, '1st_layer_qty': 16, '2nd_layer_qty': 64, 'epochs': 15, 'batch_qty': 64, 'acc': 0.952, 'time': 16.187222003936768}\n",
      "{'counter': 15, '1st_layer_qty': 16, '2nd_layer_qty': 64, 'epochs': 15, 'batch_qty': 256, 'acc': 0.937, 'time': 8.32228970527649}\n",
      "{'counter': 16, '1st_layer_qty': 16, '2nd_layer_qty': 64, 'epochs': 50, 'batch_qty': 16, 'acc': 0.953, 'time': 147.44192099571228}\n",
      "{'counter': 17, '1st_layer_qty': 16, '2nd_layer_qty': 64, 'epochs': 50, 'batch_qty': 64, 'acc': 0.951, 'time': 55.690237045288086}\n",
      "{'counter': 18, '1st_layer_qty': 16, '2nd_layer_qty': 64, 'epochs': 50, 'batch_qty': 256, 'acc': 0.9526, 'time': 25.486162900924683}\n",
      "{'counter': 19, '1st_layer_qty': 16, '2nd_layer_qty': 256, 'epochs': 5, 'batch_qty': 16, 'acc': 0.9452, 'time': 18.126657009124756}\n",
      "{'counter': 20, '1st_layer_qty': 16, '2nd_layer_qty': 256, 'epochs': 5, 'batch_qty': 64, 'acc': 0.9474, 'time': 5.995571851730347}\n",
      "{'counter': 21, '1st_layer_qty': 16, '2nd_layer_qty': 256, 'epochs': 5, 'batch_qty': 256, 'acc': 0.9384, 'time': 2.939204216003418}\n",
      "{'counter': 22, '1st_layer_qty': 16, '2nd_layer_qty': 256, 'epochs': 15, 'batch_qty': 16, 'acc': 0.9532, 'time': 49.92090320587158}\n",
      "{'counter': 23, '1st_layer_qty': 16, '2nd_layer_qty': 256, 'epochs': 15, 'batch_qty': 64, 'acc': 0.9592, 'time': 14.801456928253174}\n",
      "{'counter': 24, '1st_layer_qty': 16, '2nd_layer_qty': 256, 'epochs': 15, 'batch_qty': 256, 'acc': 0.955, 'time': 7.029951095581055}\n",
      "{'counter': 25, '1st_layer_qty': 16, '2nd_layer_qty': 256, 'epochs': 50, 'batch_qty': 16, 'acc': 0.9576, 'time': 160.30544686317444}\n",
      "{'counter': 26, '1st_layer_qty': 16, '2nd_layer_qty': 256, 'epochs': 50, 'batch_qty': 64, 'acc': 0.96, 'time': 53.23872184753418}\n",
      "{'counter': 27, '1st_layer_qty': 16, '2nd_layer_qty': 256, 'epochs': 50, 'batch_qty': 256, 'acc': 0.9558, 'time': 36.956198930740356}\n",
      "{'counter': 28, '1st_layer_qty': 64, '2nd_layer_qty': 16, 'epochs': 5, 'batch_qty': 16, 'acc': 0.9636, 'time': 20.71938991546631}\n",
      "{'counter': 29, '1st_layer_qty': 64, '2nd_layer_qty': 16, 'epochs': 5, 'batch_qty': 64, 'acc': 0.964, 'time': 6.845561981201172}\n",
      "{'counter': 30, '1st_layer_qty': 64, '2nd_layer_qty': 16, 'epochs': 5, 'batch_qty': 256, 'acc': 0.9478, 'time': 3.8685948848724365}\n",
      "{'counter': 31, '1st_layer_qty': 64, '2nd_layer_qty': 16, 'epochs': 15, 'batch_qty': 16, 'acc': 0.9624, 'time': 58.44738268852234}\n",
      "{'counter': 32, '1st_layer_qty': 64, '2nd_layer_qty': 16, 'epochs': 15, 'batch_qty': 64, 'acc': 0.9632, 'time': 21.1402108669281}\n",
      "{'counter': 33, '1st_layer_qty': 64, '2nd_layer_qty': 16, 'epochs': 15, 'batch_qty': 256, 'acc': 0.9614, 'time': 8.395991086959839}\n",
      "{'counter': 34, '1st_layer_qty': 64, '2nd_layer_qty': 16, 'epochs': 50, 'batch_qty': 16, 'acc': 0.9656, 'time': 249.97061896324158}\n",
      "{'counter': 35, '1st_layer_qty': 64, '2nd_layer_qty': 16, 'epochs': 50, 'batch_qty': 64, 'acc': 0.9656, 'time': 80.9579529762268}\n",
      "{'counter': 36, '1st_layer_qty': 64, '2nd_layer_qty': 16, 'epochs': 50, 'batch_qty': 256, 'acc': 0.9628, 'time': 24.19569730758667}\n",
      "{'counter': 37, '1st_layer_qty': 64, '2nd_layer_qty': 64, 'epochs': 5, 'batch_qty': 16, 'acc': 0.9624, 'time': 19.28113102912903}\n",
      "{'counter': 38, '1st_layer_qty': 64, '2nd_layer_qty': 64, 'epochs': 5, 'batch_qty': 64, 'acc': 0.9586, 'time': 6.975703954696655}\n",
      "{'counter': 39, '1st_layer_qty': 64, '2nd_layer_qty': 64, 'epochs': 5, 'batch_qty': 256, 'acc': 0.9534, 'time': 3.428476333618164}\n",
      "{'counter': 40, '1st_layer_qty': 64, '2nd_layer_qty': 64, 'epochs': 15, 'batch_qty': 16, 'acc': 0.966, 'time': 55.09209895133972}\n",
      "{'counter': 41, '1st_layer_qty': 64, '2nd_layer_qty': 64, 'epochs': 15, 'batch_qty': 64, 'acc': 0.966, 'time': 19.131101846694946}\n",
      "{'counter': 42, '1st_layer_qty': 64, '2nd_layer_qty': 64, 'epochs': 15, 'batch_qty': 256, 'acc': 0.9664, 'time': 8.960887908935547}\n",
      "{'counter': 43, '1st_layer_qty': 64, '2nd_layer_qty': 64, 'epochs': 50, 'batch_qty': 16, 'acc': 0.969, 'time': 198.27127695083618}\n",
      "{'counter': 44, '1st_layer_qty': 64, '2nd_layer_qty': 64, 'epochs': 50, 'batch_qty': 64, 'acc': 0.97, 'time': 85.1833610534668}\n",
      "{'counter': 45, '1st_layer_qty': 64, '2nd_layer_qty': 64, 'epochs': 50, 'batch_qty': 256, 'acc': 0.9662, 'time': 38.259647846221924}\n",
      "{'counter': 46, '1st_layer_qty': 64, '2nd_layer_qty': 256, 'epochs': 5, 'batch_qty': 16, 'acc': 0.9666, 'time': 28.204673051834106}\n",
      "{'counter': 47, '1st_layer_qty': 64, '2nd_layer_qty': 256, 'epochs': 5, 'batch_qty': 64, 'acc': 0.9596, 'time': 8.25571894645691}\n",
      "{'counter': 48, '1st_layer_qty': 64, '2nd_layer_qty': 256, 'epochs': 5, 'batch_qty': 256, 'acc': 0.9572, 'time': 5.019201040267944}\n",
      "{'counter': 49, '1st_layer_qty': 64, '2nd_layer_qty': 256, 'epochs': 15, 'batch_qty': 16, 'acc': 0.9684, 'time': 123.88022708892822}\n",
      "{'counter': 50, '1st_layer_qty': 64, '2nd_layer_qty': 256, 'epochs': 15, 'batch_qty': 64, 'acc': 0.9654, 'time': 46.12719511985779}\n",
      "{'counter': 51, '1st_layer_qty': 64, '2nd_layer_qty': 256, 'epochs': 15, 'batch_qty': 256, 'acc': 0.9682, 'time': 39.4070098400116}\n",
      "{'counter': 52, '1st_layer_qty': 64, '2nd_layer_qty': 256, 'epochs': 50, 'batch_qty': 16, 'acc': 0.9708, 'time': 463.96690607070923}\n",
      "{'counter': 53, '1st_layer_qty': 64, '2nd_layer_qty': 256, 'epochs': 50, 'batch_qty': 64, 'acc': 0.9692, 'time': 142.4261770248413}\n",
      "{'counter': 54, '1st_layer_qty': 64, '2nd_layer_qty': 256, 'epochs': 50, 'batch_qty': 256, 'acc': 0.9714, 'time': 53.455511808395386}\n",
      "{'counter': 55, '1st_layer_qty': 256, '2nd_layer_qty': 16, 'epochs': 5, 'batch_qty': 16, 'acc': 0.9668, 'time': 66.22307920455933}\n",
      "{'counter': 56, '1st_layer_qty': 256, '2nd_layer_qty': 16, 'epochs': 5, 'batch_qty': 64, 'acc': 0.9722, 'time': 21.34006905555725}\n",
      "{'counter': 57, '1st_layer_qty': 256, '2nd_layer_qty': 16, 'epochs': 5, 'batch_qty': 256, 'acc': 0.964, 'time': 9.180113077163696}\n",
      "{'counter': 58, '1st_layer_qty': 256, '2nd_layer_qty': 16, 'epochs': 15, 'batch_qty': 16, 'acc': 0.9756, 'time': 159.73058104515076}\n",
      "{'counter': 59, '1st_layer_qty': 256, '2nd_layer_qty': 16, 'epochs': 15, 'batch_qty': 64, 'acc': 0.967, 'time': 50.35576105117798}\n",
      "{'counter': 60, '1st_layer_qty': 256, '2nd_layer_qty': 16, 'epochs': 15, 'batch_qty': 256, 'acc': 0.973, 'time': 28.03814697265625}\n",
      "{'counter': 61, '1st_layer_qty': 256, '2nd_layer_qty': 16, 'epochs': 50, 'batch_qty': 16, 'acc': 0.9704, 'time': 447.31698393821716}\n",
      "{'counter': 62, '1st_layer_qty': 256, '2nd_layer_qty': 16, 'epochs': 50, 'batch_qty': 64, 'acc': 0.9764, 'time': 125.93857312202454}\n",
      "{'counter': 63, '1st_layer_qty': 256, '2nd_layer_qty': 16, 'epochs': 50, 'batch_qty': 256, 'acc': 0.975, 'time': 55.760751724243164}\n"
     ]
    },
    {
     "name": "stdout",
     "output_type": "stream",
     "text": [
      "{'counter': 64, '1st_layer_qty': 256, '2nd_layer_qty': 64, 'epochs': 5, 'batch_qty': 16, 'acc': 0.9676, 'time': 38.266382694244385}\n",
      "{'counter': 65, '1st_layer_qty': 256, '2nd_layer_qty': 64, 'epochs': 5, 'batch_qty': 64, 'acc': 0.972, 'time': 15.486589908599854}\n",
      "{'counter': 66, '1st_layer_qty': 256, '2nd_layer_qty': 64, 'epochs': 5, 'batch_qty': 256, 'acc': 0.9702, 'time': 7.317590236663818}\n",
      "{'counter': 67, '1st_layer_qty': 256, '2nd_layer_qty': 64, 'epochs': 15, 'batch_qty': 16, 'acc': 0.973, 'time': 120.29084014892578}\n",
      "{'counter': 68, '1st_layer_qty': 256, '2nd_layer_qty': 64, 'epochs': 15, 'batch_qty': 64, 'acc': 0.9726, 'time': 39.76377010345459}\n",
      "{'counter': 69, '1st_layer_qty': 256, '2nd_layer_qty': 64, 'epochs': 15, 'batch_qty': 256, 'acc': 0.973, 'time': 25.819826364517212}\n",
      "{'counter': 70, '1st_layer_qty': 256, '2nd_layer_qty': 64, 'epochs': 50, 'batch_qty': 16, 'acc': 0.9746, 'time': 430.97136402130127}\n",
      "{'counter': 71, '1st_layer_qty': 256, '2nd_layer_qty': 64, 'epochs': 50, 'batch_qty': 64, 'acc': 0.9738, 'time': 143.73743319511414}\n",
      "{'counter': 72, '1st_layer_qty': 256, '2nd_layer_qty': 64, 'epochs': 50, 'batch_qty': 256, 'acc': 0.9706, 'time': 56.868040800094604}\n",
      "{'counter': 73, '1st_layer_qty': 256, '2nd_layer_qty': 256, 'epochs': 5, 'batch_qty': 16, 'acc': 0.9682, 'time': 40.22694492340088}\n",
      "{'counter': 74, '1st_layer_qty': 256, '2nd_layer_qty': 256, 'epochs': 5, 'batch_qty': 64, 'acc': 0.9708, 'time': 18.831073999404907}\n",
      "{'counter': 75, '1st_layer_qty': 256, '2nd_layer_qty': 256, 'epochs': 5, 'batch_qty': 256, 'acc': 0.9706, 'time': 10.554271936416626}\n",
      "{'counter': 76, '1st_layer_qty': 256, '2nd_layer_qty': 256, 'epochs': 15, 'batch_qty': 16, 'acc': 0.9706, 'time': 159.42774200439453}\n",
      "{'counter': 77, '1st_layer_qty': 256, '2nd_layer_qty': 256, 'epochs': 15, 'batch_qty': 64, 'acc': 0.9726, 'time': 47.379940032958984}\n",
      "{'counter': 78, '1st_layer_qty': 256, '2nd_layer_qty': 256, 'epochs': 15, 'batch_qty': 256, 'acc': 0.9748, 'time': 20.274539947509766}\n",
      "{'counter': 79, '1st_layer_qty': 256, '2nd_layer_qty': 256, 'epochs': 50, 'batch_qty': 16, 'acc': 0.9738, 'time': 688.3145232200623}\n",
      "{'counter': 80, '1st_layer_qty': 256, '2nd_layer_qty': 256, 'epochs': 50, 'batch_qty': 64, 'acc': 0.9752, 'time': 210.01138472557068}\n",
      "{'counter': 81, '1st_layer_qty': 256, '2nd_layer_qty': 256, 'epochs': 50, 'batch_qty': 256, 'acc': 0.9766, 'time': 113.15608286857605}\n",
      "CPU times: user 2h 22min 24s, sys: 17min 30s, total: 2h 39min 54s\n",
      "Wall time: 1h 38min 58s\n"
     ]
    }
   ],
   "source": [
    "%%time\n",
    "# организуем цикл с перебором параметров\n",
    "counter = 1\n",
    "results =[]\n",
    "for layer_one in layer1:\n",
    "    for layer_two in layer2:\n",
    "        for epoch_qty in epochs:\n",
    "            for batch_qty in batches:\n",
    "                \n",
    "                start_time = time.time()\n",
    "                \n",
    "                # Build the model.\n",
    "                model = Sequential([\n",
    "                  Dense(layer_one, activation='relu', input_shape=(784,)),\n",
    "                  Dense(layer_two, activation='relu'),\n",
    "                  Dense(10, activation='softmax'),\n",
    "                ])\n",
    "                \n",
    "                # Compile the model.\n",
    "                model.compile(\n",
    "                  optimizer='adam',\n",
    "                  loss='categorical_crossentropy',\n",
    "                  metrics=['accuracy'],\n",
    "                )\n",
    "                \n",
    "                # Train the model.\n",
    "                model.fit(\n",
    "                  train_images,\n",
    "                  to_categorical(train_labels),\n",
    "                  epochs=epoch_qty,\n",
    "                  batch_size=batch_qty,\n",
    "                    verbose = 0\n",
    "                )\n",
    "                \n",
    "                qty = 5000 # кол-во объектов, которые будем предсказывать\n",
    "\n",
    "                # Predict on the first 5 test images.\n",
    "                predictions = model.predict(test_images[:qty])\n",
    "                # print(predictions)\n",
    "\n",
    "                # Print our model's predictions.\n",
    "                predicted = np.argmax(predictions, axis=1)\n",
    "                # print(predicted)\n",
    "\n",
    "                # Check our predictions against the ground truths.\n",
    "                fact_labels = test_labels[:qty]\n",
    "                \n",
    "                acc = check_accuracy(fact_labels, predicted)\n",
    "                \n",
    "                \n",
    "#                 # Evaluate the model.\n",
    "#                 loss, acc = model.evaluate(\n",
    "#                   test_images,\n",
    "#                   to_categorical(test_labels)\n",
    "#                 )\n",
    "            \n",
    "                execution_time = time.time()-start_time\n",
    "                item = {'counter':counter, '1st_layer_qty':layer_one, '2nd_layer_qty':layer_two, 'epochs':epoch_qty,\n",
    "                        'batch_qty':batch_qty, 'acc':acc, 'time':execution_time}\n",
    "                print(item)\n",
    "                results.append(item)\n",
    "                counter +=1"
   ]
  },
  {
   "cell_type": "code",
   "execution_count": 88,
   "metadata": {},
   "outputs": [
    {
     "data": {
      "text/html": [
       "<div>\n",
       "<style scoped>\n",
       "    .dataframe tbody tr th:only-of-type {\n",
       "        vertical-align: middle;\n",
       "    }\n",
       "\n",
       "    .dataframe tbody tr th {\n",
       "        vertical-align: top;\n",
       "    }\n",
       "\n",
       "    .dataframe thead th {\n",
       "        text-align: right;\n",
       "    }\n",
       "</style>\n",
       "<table border=\"1\" class=\"dataframe\">\n",
       "  <thead>\n",
       "    <tr style=\"text-align: right;\">\n",
       "      <th></th>\n",
       "      <th>1st_layer_qty</th>\n",
       "      <th>2nd_layer_qty</th>\n",
       "      <th>epochs</th>\n",
       "      <th>batch_qty</th>\n",
       "      <th>acc</th>\n",
       "      <th>time</th>\n",
       "    </tr>\n",
       "  </thead>\n",
       "  <tbody>\n",
       "    <tr>\n",
       "      <th>0</th>\n",
       "      <td>16</td>\n",
       "      <td>16</td>\n",
       "      <td>5</td>\n",
       "      <td>16</td>\n",
       "      <td>0.9378</td>\n",
       "      <td>14.190089</td>\n",
       "    </tr>\n",
       "    <tr>\n",
       "      <th>1</th>\n",
       "      <td>16</td>\n",
       "      <td>16</td>\n",
       "      <td>5</td>\n",
       "      <td>64</td>\n",
       "      <td>0.9288</td>\n",
       "      <td>4.855036</td>\n",
       "    </tr>\n",
       "  </tbody>\n",
       "</table>\n",
       "</div>"
      ],
      "text/plain": [
       "   1st_layer_qty  2nd_layer_qty  epochs  batch_qty     acc       time\n",
       "0             16             16       5         16  0.9378  14.190089\n",
       "1             16             16       5         64  0.9288   4.855036"
      ]
     },
     "execution_count": 88,
     "metadata": {},
     "output_type": "execute_result"
    }
   ],
   "source": [
    "# создаём датафрейм из результатов\n",
    "import pandas as pd\n",
    "results_df = pd.DataFrame(results)\n",
    "results_df.drop(columns=\"counter\", inplace = True)\n",
    "results_df.head(2)"
   ]
  },
  {
   "cell_type": "code",
   "execution_count": 83,
   "metadata": {},
   "outputs": [],
   "source": [
    "# попробуем визуализировать взаимосвязи данных между собой\n",
    "import matplotlib.pyplot as plt\n",
    "import seaborn as sn\n",
    "from sklearn import preprocessing"
   ]
  },
  {
   "cell_type": "code",
   "execution_count": 84,
   "metadata": {},
   "outputs": [],
   "source": [
    "cols = ['1st_layer_qty','2nd_layer_qty','epochs','batch_qty','acc', 'time']"
   ]
  },
  {
   "cell_type": "code",
   "execution_count": 85,
   "metadata": {},
   "outputs": [],
   "source": [
    "# делаем нормализацию\n",
    "x = results_df.values #returns a numpy array\n",
    "min_max_scaler = preprocessing.MinMaxScaler()\n",
    "x_scaled = min_max_scaler.fit_transform(x)\n",
    "df = pd.DataFrame(x_scaled, columns = cols)"
   ]
  },
  {
   "cell_type": "code",
   "execution_count": 89,
   "metadata": {},
   "outputs": [
    {
     "data": {
      "text/html": [
       "<div>\n",
       "<style scoped>\n",
       "    .dataframe tbody tr th:only-of-type {\n",
       "        vertical-align: middle;\n",
       "    }\n",
       "\n",
       "    .dataframe tbody tr th {\n",
       "        vertical-align: top;\n",
       "    }\n",
       "\n",
       "    .dataframe thead th {\n",
       "        text-align: right;\n",
       "    }\n",
       "</style>\n",
       "<table border=\"1\" class=\"dataframe\">\n",
       "  <thead>\n",
       "    <tr style=\"text-align: right;\">\n",
       "      <th></th>\n",
       "      <th>1st_layer_qty</th>\n",
       "      <th>2nd_layer_qty</th>\n",
       "      <th>epochs</th>\n",
       "      <th>batch_qty</th>\n",
       "      <th>acc</th>\n",
       "      <th>time</th>\n",
       "    </tr>\n",
       "  </thead>\n",
       "  <tbody>\n",
       "    <tr>\n",
       "      <th>0</th>\n",
       "      <td>0.0</td>\n",
       "      <td>0.0</td>\n",
       "      <td>0.0</td>\n",
       "      <td>0.0</td>\n",
       "      <td>0.348993</td>\n",
       "      <td>0.017136</td>\n",
       "    </tr>\n",
       "    <tr>\n",
       "      <th>1</th>\n",
       "      <td>0.0</td>\n",
       "      <td>0.0</td>\n",
       "      <td>0.0</td>\n",
       "      <td>0.2</td>\n",
       "      <td>0.197987</td>\n",
       "      <td>0.003525</td>\n",
       "    </tr>\n",
       "    <tr>\n",
       "      <th>2</th>\n",
       "      <td>0.0</td>\n",
       "      <td>0.0</td>\n",
       "      <td>0.0</td>\n",
       "      <td>1.0</td>\n",
       "      <td>0.000000</td>\n",
       "      <td>0.000182</td>\n",
       "    </tr>\n",
       "  </tbody>\n",
       "</table>\n",
       "</div>"
      ],
      "text/plain": [
       "   1st_layer_qty  2nd_layer_qty  epochs  batch_qty       acc      time\n",
       "0            0.0            0.0     0.0        0.0  0.348993  0.017136\n",
       "1            0.0            0.0     0.0        0.2  0.197987  0.003525\n",
       "2            0.0            0.0     0.0        1.0  0.000000  0.000182"
      ]
     },
     "execution_count": 89,
     "metadata": {},
     "output_type": "execute_result"
    }
   ],
   "source": [
    "df.head(3)"
   ]
  },
  {
   "cell_type": "code",
   "execution_count": 90,
   "metadata": {},
   "outputs": [],
   "source": [
    "# создаём вектора для отображения на графике\n",
    "accuracy_vector = df['acc']\n",
    "layer1_v = df['1st_layer_qty']\n",
    "layer2_v = df['2nd_layer_qty']\n",
    "epochs_v = df['epochs']\n",
    "batch_v = df['batch_qty']\n",
    "time_v = df['time']"
   ]
  },
  {
   "cell_type": "code",
   "execution_count": 91,
   "metadata": {},
   "outputs": [
    {
     "data": {
      "image/png": "[encoded data removed]",
      "text/plain": [
       "<Figure size 432x288 with 2 Axes>"
      ]
     },
     "metadata": {
      "needs_background": "light"
     },
     "output_type": "display_data"
    }
   ],
   "source": [
    "corrMatrix = results_df.corr()\n",
    "sn.heatmap(corrMatrix, annot=True)\n",
    "plt.show()"
   ]
  },
  {
   "cell_type": "markdown",
   "metadata": {},
   "source": [
    "## Итоги и выводы:\n",
    "\n",
    "* на построенной диаграмме видна взаимосвязь между затраченным временем и кол-вом эпох = чем больше эпох обучения, тем больше времени требуется. Также обратная корреляция с параметром \"batch\": чем больше batch в модели, тем меньшее время потребуется \n",
    "* точность модели на использованных данных зависит от кол-ва нейронов первого слоя в большей степени, а также немного от кол-ва эпох обучения\n",
    "* Параметры второго слоя мало повлияли на результаты работы сети, некоторое влияние второй слой оказал на точность"
   ]
  },
  {
   "cell_type": "markdown",
   "metadata": {},
   "source": [
    "## Задание 2\n",
    "\n",
    "Поработайте с документацией Keras. Попробуйте найти полезные команды Keras неразобранные на уроке."
   ]
  },
  {
   "cell_type": "markdown",
   "metadata": {},
   "source": [
    "\"Поработал\" с документацией Keras. Она оказалась очень объёмной! Возможно, train_on_batch() будет решать какие-то задачи, когда объём работы слишком большой? Оценить работоспособность модели, кода и т.д.?"
   ]
  },
  {
   "cell_type": "code",
   "execution_count": 101,
   "metadata": {},
   "outputs": [],
   "source": [
    "model = Sequential([\n",
    "  Dense(64, activation='relu', input_shape=(784,)),\n",
    "  Dense(64, activation='relu'),\n",
    "  Dense(10, activation='softmax'),\n",
    "])\n",
    "\n",
    "# Compile the model.\n",
    "model.compile(\n",
    "  optimizer='adam',\n",
    "  loss='categorical_crossentropy',\n",
    "  metrics=['accuracy'],\n",
    ")"
   ]
  },
  {
   "cell_type": "code",
   "execution_count": 105,
   "metadata": {},
   "outputs": [
    {
     "data": {
      "text/plain": [
       "[2.253678560256958, 0.15410000085830688]"
      ]
     },
     "execution_count": 105,
     "metadata": {},
     "output_type": "execute_result"
    }
   ],
   "source": [
    "model.train_on_batch(train_images, to_categorical(train_labels))"
   ]
  },
  {
   "cell_type": "code",
   "execution_count": 106,
   "metadata": {},
   "outputs": [],
   "source": [
    "qty = 5000 # кол-во объектов, которые будем предсказывать\n",
    "\n",
    "# Predict on the first 5 test images.\n",
    "predictions = model.predict(test_images[:qty])\n",
    "# print(predictions)\n",
    "\n",
    "# Print our model's predictions.\n",
    "predicted = np.argmax(predictions, axis=1)\n",
    "# print(predicted)\n",
    "\n",
    "# Check our predictions against the ground truths.\n",
    "fact_labels = test_labels[:qty]\n",
    "\n",
    "acc = check_accuracy(fact_labels, predicted)"
   ]
  },
  {
   "cell_type": "code",
   "execution_count": 107,
   "metadata": {},
   "outputs": [
    {
     "name": "stdout",
     "output_type": "stream",
     "text": [
      "точность: 0.1932\n"
     ]
    }
   ],
   "source": [
    "print(f'точность: {acc}')"
   ]
  },
  {
   "cell_type": "markdown",
   "metadata": {},
   "source": [
    "## Итоги, выводы:\n",
    "\n",
    "* точность вообще никакая, поэтому пользу от использования этого метода надо искать за пределами стандартных целей применения нейронных сетей: например, проверить, работсопобность кода"
   ]
  },
  {
   "cell_type": "markdown",
   "metadata": {},
   "source": [
    "Также мне показалось любопытной и полезной возможность генерить пользовательские данные и обучать на них модель: fit_generator() + predict_generator()"
   ]
  },
  {
   "cell_type": "code",
   "execution_count": null,
   "metadata": {},
   "outputs": [],
   "source": []
  }
 ],
 "metadata": {
  "kernelspec": {
   "display_name": "Python 3",
   "language": "python",
   "name": "python3"
  },
  "language_info": {
   "codemirror_mode": {
    "name": "ipython",
    "version": 3
   },
   "file_extension": ".py",
   "mimetype": "text/x-python",
   "name": "python",
   "nbconvert_exporter": "python",
   "pygments_lexer": "ipython3",
   "version": "3.7.4"
  }
 },
 "nbformat": 4,
 "nbformat_minor": 2
}
