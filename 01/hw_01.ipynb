{
 "cells": [
  {
   "cell_type": "markdown",
   "metadata": {},
   "source": [
    "# ДЗ 01. Введение в нейронные сети\n",
    "\n",
    "<ol>\n",
    "    <li>Попробуйте видоизменить параметры разобранной на уроке двухслойной нейронной сети таким образом, чтобы улучшить ее точность. Проведите анализ — что приводит к ухудшению точности нейронной сети? Что приводит к увеличению ее точности?</li>\n",
    "</ol>"
   ]
  },
  {
   "cell_type": "code",
   "execution_count": 1,
   "metadata": {},
   "outputs": [
    {
     "name": "stderr",
     "output_type": "stream",
     "text": [
      "/Users/artem/opt/anaconda3/lib/python3.7/site-packages/statsmodels/tools/_testing.py:19: FutureWarning: pandas.util.testing is deprecated. Use the functions in the public API at pandas.testing instead.\n",
      "  import pandas.util.testing as tm\n"
     ]
    }
   ],
   "source": [
    "'''\n",
    "Исходный код к уроку 1.\n",
    "Построение двухслойной нейронный сети для классификации цветков ириса\n",
    "'''\n",
    "\n",
    "import numpy as np\n",
    "import pandas as pd\n",
    "import seaborn as sns\n",
    "import matplotlib.pyplot as plt\n",
    "\n",
    "import warnings\n",
    "warnings.simplefilter(action='ignore', category=FutureWarning)"
   ]
  },
  {
   "cell_type": "code",
   "execution_count": 2,
   "metadata": {},
   "outputs": [],
   "source": [
    "# sklearn здесь только, чтобы разделить выборку на тренировочную и тестовую\n",
    "from sklearn.model_selection import train_test_split\n",
    "\n",
    "### Шаг 1. Определение функций, которые понадобяться для обучения\n",
    "# преобразование массива в бинарный вид результатов\n",
    "def to_one_hot(Y):\n",
    "    n_col = np.amax(Y) + 1\n",
    "    binarized = np.zeros((len(Y), n_col))\n",
    "    for i in range(len(Y)):\n",
    "        binarized[i, Y[i]] = 1.\n",
    "    return binarized\n",
    "\n",
    "# преобразование массива в необходимый вид\n",
    "def from_one_hot(Y):\n",
    "    arr = np.zeros((len(Y), 1))\n",
    "\n",
    "    for i in range(len(Y)):\n",
    "        l = layer2[i]\n",
    "        for j in range(len(l)):\n",
    "            if(l[j] == 1):\n",
    "                arr[i] = j+1\n",
    "    return arr\n",
    "\n",
    "# сигмоида и ее производная\n",
    "def sigmoid(x):\n",
    "    return 1/(1+np.exp(-x))\n",
    "\n",
    "def sigmoid_deriv(x):\n",
    "    return sigmoid(x)*(1 - sigmoid(x))\n",
    "\n",
    "def relu(x):\n",
    "    return x  *  (x  >  0)\n",
    "\n",
    "def relu_deriv(x):\n",
    "    return relu(x)*(1-relu(x))\n",
    "\n",
    "# нормализация массива\n",
    "def normalize(X, axis=-1, order=2): # на вход\n",
    "    l2 = np.atleast_1d(np.linalg.norm(X, order, axis))\n",
    "    l2[l2 == 0] = 1\n",
    "    return X / np.expand_dims(l2, axis)"
   ]
  },
  {
   "cell_type": "code",
   "execution_count": 3,
   "metadata": {},
   "outputs": [
    {
     "data": {
      "text/html": [
       "<div>\n",
       "<style scoped>\n",
       "    .dataframe tbody tr th:only-of-type {\n",
       "        vertical-align: middle;\n",
       "    }\n",
       "\n",
       "    .dataframe tbody tr th {\n",
       "        vertical-align: top;\n",
       "    }\n",
       "\n",
       "    .dataframe thead th {\n",
       "        text-align: right;\n",
       "    }\n",
       "</style>\n",
       "<table border=\"1\" class=\"dataframe\">\n",
       "  <thead>\n",
       "    <tr style=\"text-align: right;\">\n",
       "      <th></th>\n",
       "      <th>Id</th>\n",
       "      <th>SepalLengthCm</th>\n",
       "      <th>SepalWidthCm</th>\n",
       "      <th>PetalLengthCm</th>\n",
       "      <th>PetalWidthCm</th>\n",
       "      <th>Species</th>\n",
       "    </tr>\n",
       "  </thead>\n",
       "  <tbody>\n",
       "    <tr>\n",
       "      <th>0</th>\n",
       "      <td>1</td>\n",
       "      <td>5.1</td>\n",
       "      <td>3.5</td>\n",
       "      <td>1.4</td>\n",
       "      <td>0.2</td>\n",
       "      <td>Iris-setosa</td>\n",
       "    </tr>\n",
       "    <tr>\n",
       "      <th>1</th>\n",
       "      <td>2</td>\n",
       "      <td>4.9</td>\n",
       "      <td>3.0</td>\n",
       "      <td>1.4</td>\n",
       "      <td>0.2</td>\n",
       "      <td>Iris-setosa</td>\n",
       "    </tr>\n",
       "    <tr>\n",
       "      <th>2</th>\n",
       "      <td>3</td>\n",
       "      <td>4.7</td>\n",
       "      <td>3.2</td>\n",
       "      <td>1.3</td>\n",
       "      <td>0.2</td>\n",
       "      <td>Iris-setosa</td>\n",
       "    </tr>\n",
       "    <tr>\n",
       "      <th>3</th>\n",
       "      <td>4</td>\n",
       "      <td>4.6</td>\n",
       "      <td>3.1</td>\n",
       "      <td>1.5</td>\n",
       "      <td>0.2</td>\n",
       "      <td>Iris-setosa</td>\n",
       "    </tr>\n",
       "    <tr>\n",
       "      <th>4</th>\n",
       "      <td>5</td>\n",
       "      <td>5.0</td>\n",
       "      <td>3.6</td>\n",
       "      <td>1.4</td>\n",
       "      <td>0.2</td>\n",
       "      <td>Iris-setosa</td>\n",
       "    </tr>\n",
       "  </tbody>\n",
       "</table>\n",
       "</div>"
      ],
      "text/plain": [
       "   Id  SepalLengthCm  SepalWidthCm  PetalLengthCm  PetalWidthCm      Species\n",
       "0   1            5.1           3.5            1.4           0.2  Iris-setosa\n",
       "1   2            4.9           3.0            1.4           0.2  Iris-setosa\n",
       "2   3            4.7           3.2            1.3           0.2  Iris-setosa\n",
       "3   4            4.6           3.1            1.5           0.2  Iris-setosa\n",
       "4   5            5.0           3.6            1.4           0.2  Iris-setosa"
      ]
     },
     "execution_count": 3,
     "metadata": {},
     "output_type": "execute_result"
    }
   ],
   "source": [
    "### Шаг 2. Подготовка тренировочных данных\n",
    "# получения данных из csv файла. укажите здесь путь к файлу Iris.csv\n",
    "iris_data = pd.read_csv(\"Iris.csv\")\n",
    "iris_data.head() # расскоментируйте, чтобы посмотреть структуру данных"
   ]
  },
  {
   "cell_type": "code",
   "execution_count": 4,
   "metadata": {
    "scrolled": true
   },
   "outputs": [],
   "source": [
    "# репрезентация данных в виде графиков\n",
    "#g = sns.pairplot(iris_data.drop(\"Id\", axis=1), hue=\"Species\")\n",
    "# plt.show() # расскоментируйте, чтобы посмотреть"
   ]
  },
  {
   "cell_type": "code",
   "execution_count": 5,
   "metadata": {},
   "outputs": [
    {
     "data": {
      "text/html": [
       "<div>\n",
       "<style scoped>\n",
       "    .dataframe tbody tr th:only-of-type {\n",
       "        vertical-align: middle;\n",
       "    }\n",
       "\n",
       "    .dataframe tbody tr th {\n",
       "        vertical-align: top;\n",
       "    }\n",
       "\n",
       "    .dataframe thead th {\n",
       "        text-align: right;\n",
       "    }\n",
       "</style>\n",
       "<table border=\"1\" class=\"dataframe\">\n",
       "  <thead>\n",
       "    <tr style=\"text-align: right;\">\n",
       "      <th></th>\n",
       "      <th>Id</th>\n",
       "      <th>SepalLengthCm</th>\n",
       "      <th>SepalWidthCm</th>\n",
       "      <th>PetalLengthCm</th>\n",
       "      <th>PetalWidthCm</th>\n",
       "      <th>Species</th>\n",
       "    </tr>\n",
       "  </thead>\n",
       "  <tbody>\n",
       "    <tr>\n",
       "      <th>0</th>\n",
       "      <td>1</td>\n",
       "      <td>5.1</td>\n",
       "      <td>3.5</td>\n",
       "      <td>1.4</td>\n",
       "      <td>0.2</td>\n",
       "      <td>0</td>\n",
       "    </tr>\n",
       "    <tr>\n",
       "      <th>1</th>\n",
       "      <td>2</td>\n",
       "      <td>4.9</td>\n",
       "      <td>3.0</td>\n",
       "      <td>1.4</td>\n",
       "      <td>0.2</td>\n",
       "      <td>0</td>\n",
       "    </tr>\n",
       "    <tr>\n",
       "      <th>2</th>\n",
       "      <td>3</td>\n",
       "      <td>4.7</td>\n",
       "      <td>3.2</td>\n",
       "      <td>1.3</td>\n",
       "      <td>0.2</td>\n",
       "      <td>0</td>\n",
       "    </tr>\n",
       "    <tr>\n",
       "      <th>3</th>\n",
       "      <td>4</td>\n",
       "      <td>4.6</td>\n",
       "      <td>3.1</td>\n",
       "      <td>1.5</td>\n",
       "      <td>0.2</td>\n",
       "      <td>0</td>\n",
       "    </tr>\n",
       "    <tr>\n",
       "      <th>4</th>\n",
       "      <td>5</td>\n",
       "      <td>5.0</td>\n",
       "      <td>3.6</td>\n",
       "      <td>1.4</td>\n",
       "      <td>0.2</td>\n",
       "      <td>0</td>\n",
       "    </tr>\n",
       "  </tbody>\n",
       "</table>\n",
       "</div>"
      ],
      "text/plain": [
       "   Id  SepalLengthCm  SepalWidthCm  PetalLengthCm  PetalWidthCm  Species\n",
       "0   1            5.1           3.5            1.4           0.2        0\n",
       "1   2            4.9           3.0            1.4           0.2        0\n",
       "2   3            4.7           3.2            1.3           0.2        0\n",
       "3   4            4.6           3.1            1.5           0.2        0\n",
       "4   5            5.0           3.6            1.4           0.2        0"
      ]
     },
     "execution_count": 5,
     "metadata": {},
     "output_type": "execute_result"
    }
   ],
   "source": [
    "# замена текстовых значений на цифровые\n",
    "iris_data['Species'].replace(['Iris-setosa', 'Iris-virginica', 'Iris-versicolor'], [0, 1, 2], inplace=True)\n",
    "iris_data.head()"
   ]
  },
  {
   "cell_type": "code",
   "execution_count": 6,
   "metadata": {},
   "outputs": [],
   "source": [
    "# формирование входных данных\n",
    "columns = ['SepalLengthCm', 'SepalWidthCm', 'PetalLengthCm', 'PetalWidthCm']\n",
    "x = pd.DataFrame(iris_data, columns=columns)\n",
    "#x = normalize(x.as_matrix())\n",
    "x = normalize(x.values)"
   ]
  },
  {
   "cell_type": "code",
   "execution_count": 7,
   "metadata": {},
   "outputs": [],
   "source": [
    "# формирование выходных данных(результатов)\n",
    "columns = ['Species']\n",
    "y = pd.DataFrame(iris_data, columns=columns)\n",
    "#y['Species'].value_counts() # какие значения в таргете у нас присутствуют\n",
    "y = y.values\n",
    "#print(y.shape)\n",
    "y = y.flatten()\n",
    "#print(y.shape)\n",
    "y = to_one_hot(y)"
   ]
  },
  {
   "cell_type": "code",
   "execution_count": 8,
   "metadata": {},
   "outputs": [],
   "source": [
    "# Разделение данных на тренировочные и тестовые\n",
    "X_train, X_test, y_train, y_test = train_test_split(x, y, test_size=0.33)"
   ]
  },
  {
   "cell_type": "markdown",
   "metadata": {},
   "source": [
    "### Изучим влияние кол-ва эпох обучения"
   ]
  },
  {
   "cell_type": "code",
   "execution_count": null,
   "metadata": {},
   "outputs": [],
   "source": [
    "# присваевание случайных весов\n",
    "np.random.seed(1)\n",
    "w0 = 2*np.random.random((4, 5)) - 1 # для входного слоя   - 4 входа, 3 выхода\n",
    "w1 = 2*np.random.random((5, 3)) - 1 # для внутреннего слоя - 5 входов, 3 выхода\n",
    "\n",
    "# скорость обучения (learning rate)\n",
    "alpha = 0.1#[0.1, 0.05, 0.01, 0.005, 0.001, 0.0005, 0.0001]\n",
    "\n",
    "# кол-во итераций в процессе обучения\n",
    "attempts_qty = [10, 100, 500, 2000, 10000, 20000, 50000, 100000]\n",
    "\n",
    "# функция, которую будем использовать для активации\n",
    "activation_functions = ['sigmoid', 'relu']\n",
    "activation_function = 'relu'\n",
    "\n",
    "# массивы, чтобы потом построить график\n",
    "errors = []\n",
    "accuracies = []\n",
    "results = []\n",
    "\n",
    "# процесс обучения\n",
    "for attempts in attempts_qty:\n",
    "    for i in range(attempts):\n",
    "\n",
    "        # прямое распространение(feed forward)\n",
    "        layer0 = X_train\n",
    "\n",
    "        layer1 = sigmoid(np.dot(layer0, w0))\n",
    "        layer2 = sigmoid(np.dot(layer1, w1))\n",
    "\n",
    "        # обратное распространение(back propagation) с использованием градиентного спуска\n",
    "        layer2_error = y_train - layer2\n",
    "\n",
    "        layer2_delta = layer2_error * sigmoid_deriv(layer2)\n",
    "        layer1_error = layer2_delta.dot(w1.T)\n",
    "        layer1_delta = layer1_error * sigmoid_deriv(layer1)\n",
    "\n",
    "        w1 += layer1.T.dot(layer2_delta) * alpha\n",
    "        w0 += layer0.T.dot(layer1_delta) * alpha\n",
    "\n",
    "        error = np.mean(np.abs(layer2_error))\n",
    "        errors.append(error)\n",
    "        accuracy = (1 - error) * 100\n",
    "        accuracies.append(accuracy)\n",
    "        \n",
    "    item = {'attempts_qty':attempts, 'learning_rate':alpha, 'accuracy':accuracy, 'error':error}\n",
    "    print(item)\n",
    "    results.append(item)"
   ]
  },
  {
   "cell_type": "markdown",
   "metadata": {},
   "source": [
    "### Построим график взаимосвязи кол-ва эпох обучения и ошибки"
   ]
  },
  {
   "cell_type": "code",
   "execution_count": 22,
   "metadata": {},
   "outputs": [],
   "source": [
    "attempts_influence = [x['attempts_qty'] for x in results]\n",
    "errors = [x['error'] for x in results]"
   ]
  },
  {
   "cell_type": "code",
   "execution_count": 23,
   "metadata": {},
   "outputs": [
    {
     "data": {
      "image/png": "[encoded data removed]",
      "text/plain": [
       "<Figure size 432x288 with 2 Axes>"
      ]
     },
     "metadata": {
      "needs_background": "light"
     },
     "output_type": "display_data"
    }
   ],
   "source": [
    "fig, ax1 = plt.subplots()\n",
    "\n",
    "color = 'tab:red'\n",
    "ax1.set_xlabel('x')\n",
    "ax1.set_ylabel('epoch qty', color=color)\n",
    "ax1.plot(attempts_influence, color=color)\n",
    "ax1.tick_params(axis='y', labelcolor=color)\n",
    "\n",
    "ax2 = ax1.twinx()  # instantiate a second axes that shares the same x-axis\n",
    "\n",
    "color = 'tab:blue'\n",
    "ax2.set_ylabel('error', color=color)  # we already handled the x-label with ax1\n",
    "ax2.plot(errors, color=color)\n",
    "ax2.tick_params(axis='y', labelcolor=color)\n",
    "\n",
    "fig.tight_layout()  # otherwise the right y-label is slightly clipped\n",
    "plt.show()"
   ]
  },
  {
   "cell_type": "markdown",
   "metadata": {},
   "source": [
    "### Изучим влияние скорости обучения"
   ]
  },
  {
   "cell_type": "code",
   "execution_count": 28,
   "metadata": {},
   "outputs": [
    {
     "name": "stdout",
     "output_type": "stream",
     "text": [
      "{'attempts_qty': 100000, 'learning_rate': 0.1, 'accuracy': 97.82161392786173, 'error': 0.021783860721382716}\n",
      "{'attempts_qty': 100000, 'learning_rate': 0.05, 'accuracy': 97.86315145038714, 'error': 0.02136848549612857}\n",
      "{'attempts_qty': 100000, 'learning_rate': 0.01, 'accuracy': 97.86091649049969, 'error': 0.021390835095003103}\n",
      "{'attempts_qty': 100000, 'learning_rate': 0.005, 'accuracy': 97.85917600706836, 'error': 0.021408239929316397}\n",
      "{'attempts_qty': 100000, 'learning_rate': 0.001, 'accuracy': 97.85878579635909, 'error': 0.02141214203640906}\n",
      "{'attempts_qty': 100000, 'learning_rate': 0.0005, 'accuracy': 97.85858584702561, 'error': 0.021414141529743885}\n",
      "{'attempts_qty': 100000, 'learning_rate': 0.0001, 'accuracy': 97.85854545940083, 'error': 0.02141454540599179}\n"
     ]
    }
   ],
   "source": [
    "# присваевание случайных весов\n",
    "np.random.seed(1)\n",
    "w0 = 2*np.random.random((4, 5)) - 1 # для входного слоя   - 4 входа, 3 выхода\n",
    "w1 = 2*np.random.random((5, 3)) - 1 # для внутреннего слоя - 5 входов, 3 выхода\n",
    "\n",
    "# скорость обучения (learning rate)\n",
    "alphas = [0.1, 0.05, 0.01, 0.005, 0.001, 0.0005, 0.0001]\n",
    "\n",
    "# кол-во итераций в процессе обучения\n",
    "attempts_qty = 10000 # [10, 100, 500, 2000, 10000, 20000, 50000, 100000]\n",
    "\n",
    "# функция, которую будем использовать для активации\n",
    "activation_functions = ['sigmoid', 'relu']\n",
    "activation_function = 'relu'\n",
    "\n",
    "# массивы, чтобы потом построить график\n",
    "errors = []\n",
    "accuracies = []\n",
    "results = []\n",
    "\n",
    "# процесс обучения\n",
    "for alpha in alphas:\n",
    "    for i in range(attempts_qty):\n",
    "\n",
    "        # прямое распространение(feed forward)\n",
    "        layer0 = X_train\n",
    "\n",
    "        layer1 = sigmoid(np.dot(layer0, w0))\n",
    "        layer2 = sigmoid(np.dot(layer1, w1))\n",
    "\n",
    "        # обратное распространение(back propagation) с использованием градиентного спуска\n",
    "        layer2_error = y_train - layer2\n",
    "\n",
    "        layer2_delta = layer2_error * sigmoid_deriv(layer2)\n",
    "        layer1_error = layer2_delta.dot(w1.T)\n",
    "        layer1_delta = layer1_error * sigmoid_deriv(layer1)\n",
    "\n",
    "        w1 += layer1.T.dot(layer2_delta) * alpha\n",
    "        w0 += layer0.T.dot(layer1_delta) * alpha\n",
    "\n",
    "        error = np.mean(np.abs(layer2_error))\n",
    "        errors.append(error)\n",
    "        accuracy = (1 - error) * 100\n",
    "        accuracies.append(accuracy)\n",
    "        \n",
    "    item = {'attempts_qty':attempts, 'learning_rate':alpha, 'accuracy':accuracy, 'error':error}\n",
    "    print(item)\n",
    "    results.append(item)"
   ]
  },
  {
   "cell_type": "markdown",
   "metadata": {},
   "source": [
    "### Построим график взаимосвязи коэф-та обучения и ошибки"
   ]
  },
  {
   "cell_type": "code",
   "execution_count": 31,
   "metadata": {},
   "outputs": [],
   "source": [
    "alpha_influence = [x['learning_rate'] for x in results]\n",
    "errors = [x['error'] for x in results]"
   ]
  },
  {
   "cell_type": "code",
   "execution_count": 32,
   "metadata": {},
   "outputs": [
    {
     "data": {
      "image/png": "[encoded data removed]",
      "text/plain": [
       "<Figure size 432x288 with 2 Axes>"
      ]
     },
     "metadata": {
      "needs_background": "light"
     },
     "output_type": "display_data"
    }
   ],
   "source": [
    "fig, ax1 = plt.subplots()\n",
    "\n",
    "color = 'tab:red'\n",
    "ax1.set_xlabel('x')\n",
    "ax1.set_ylabel('alpha', color=color)\n",
    "ax1.plot(alpha_influence, color=color)\n",
    "ax1.tick_params(axis='y', labelcolor=color)\n",
    "\n",
    "ax2 = ax1.twinx()  # instantiate a second axes that shares the same x-axis\n",
    "\n",
    "color = 'tab:blue'\n",
    "ax2.set_ylabel('error', color=color)  # we already handled the x-label with ax1\n",
    "ax2.plot(errors, color=color)\n",
    "ax2.tick_params(axis='y', labelcolor=color)\n",
    "\n",
    "fig.tight_layout()  # otherwise the right y-label is slightly clipped\n",
    "plt.show()"
   ]
  },
  {
   "cell_type": "markdown",
   "metadata": {},
   "source": [
    "## Выводы:\n",
    "\n",
    "- параметр \"скорость обучения\" и \"кол-во эпох обучения\" находятся во взаимосвязи: чем ниже скорость обучения, тем большее кол-во эпох обучения требуется, тем точнее результат\n",
    "- к ухудшению точности нейросети приводит увеличение параметра \"скорость обучения\" и снижение кол-ва эпох обучения\n",
    "- к улучшению точности нейросети приводит увеличение параметра \"кол-во эпох обучения\", а также снижение скорости обучения\n",
    "- Можно сказать, что для каждой задачи существует свой оптимум параметров. Всегда существует риск \"перескочить\" этот оптимум решения при неправильном (или просто неудачном) подборе параметров"
   ]
  },
  {
   "cell_type": "code",
   "execution_count": null,
   "metadata": {},
   "outputs": [],
   "source": []
  }
 ],
 "metadata": {
  "kernelspec": {
   "display_name": "Python 3",
   "language": "python",
   "name": "python3"
  },
  "language_info": {
   "codemirror_mode": {
    "name": "ipython",
    "version": 3
   },
   "file_extension": ".py",
   "mimetype": "text/x-python",
   "name": "python",
   "nbconvert_exporter": "python",
   "pygments_lexer": "ipython3",
   "version": "3.7.4"
  }
 },
 "nbformat": 4,
 "nbformat_minor": 2
}
