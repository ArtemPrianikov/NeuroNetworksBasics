{
 "cells": [
  {
   "cell_type": "code",
   "execution_count": 1,
   "metadata": {},
   "outputs": [],
   "source": [
    "import numpy as np\n",
    "import pandas as pd"
   ]
  },
  {
   "cell_type": "code",
   "execution_count": 193,
   "metadata": {},
   "outputs": [],
   "source": [
    "def sigmoid(x):\n",
    "    return 1 / (1 + np.exp(-x))"
   ]
  },
  {
   "cell_type": "code",
   "execution_count": 181,
   "metadata": {},
   "outputs": [],
   "source": [
    "# выборка наблюдений и выборка меток (таргет)\n",
    "training_inputs=np.array([[0,0],\n",
    "                          [1,1],\n",
    "                          [0,1]])\n",
    "training_outputs = np.array([[0],\n",
    "                             [1],\n",
    "                             [1]])"
   ]
  },
  {
   "cell_type": "code",
   "execution_count": 182,
   "metadata": {},
   "outputs": [
    {
     "name": "stdout",
     "output_type": "stream",
     "text": [
      "входные данные: наблюдения и метки\n",
      "[0 0] [0]\n",
      "[1 1] [1]\n",
      "[0 1] [1]\n"
     ]
    }
   ],
   "source": [
    "print('входные данные: наблюдения и метки')\n",
    "for x in list(zip(training_inputs, training_outputs)):\n",
    "    print(x[0], x[1])"
   ]
  },
  {
   "cell_type": "code",
   "execution_count": 205,
   "metadata": {},
   "outputs": [
    {
     "name": "stdout",
     "output_type": "stream",
     "text": [
      "первоначальные веса:\n",
      " [[0.49460165]\n",
      " [0.2280831 ]]\n",
      "\n",
      "0 текущее предсказание\n",
      " [[0.        ]\n",
      " [0.72268475]\n",
      " [0.2280831 ]]\n",
      "error\n",
      " [[ 0.125     ]\n",
      " [-0.07189726]\n",
      " [-0.1093776 ]]\n",
      "\n",
      "1 текущее предсказание\n",
      " [[0.        ]\n",
      " [0.90395961]\n",
      " [0.31872053]]\n",
      "error\n",
      " [[ 0.125     ]\n",
      " [-0.05913383]\n",
      " [-0.10261869]]\n",
      "\n",
      "2 текущее предсказание\n",
      " [[0.        ]\n",
      " [1.06571213]\n",
      " [0.39959679]]\n",
      "error\n",
      " [[ 0.125     ]\n",
      " [-0.04882798]\n",
      " [-0.09645055]]\n",
      "\n",
      "3 текущее предсказание\n",
      " [[0.        ]\n",
      " [1.21099066]\n",
      " [0.47223606]]\n",
      "error\n",
      " [[ 0.125     ]\n",
      " [-0.0405902 ]\n",
      " [-0.09086127]]\n",
      "\n",
      "4 текущее предсказание\n",
      " [[0.        ]\n",
      " [1.34244213]\n",
      " [0.53796179]]\n",
      "error\n",
      " [[ 0.125     ]\n",
      " [-0.0340103 ]\n",
      " [-0.08580615]]\n",
      "\n",
      "5 текущее предсказание\n",
      " [[0.        ]\n",
      " [1.46225858]\n",
      " [0.59787002]]\n",
      "error\n",
      " [[ 0.125     ]\n",
      " [-0.0287323 ]\n",
      " [-0.08123008]]\n",
      "\n",
      "6 текущее предсказание\n",
      " [[0.        ]\n",
      " [1.57222096]\n",
      " [0.65285121]]\n",
      "error\n",
      " [[ 0.125     ]\n",
      " [-0.02447003]\n",
      " [-0.077078  ]]\n",
      "\n",
      "7 текущее предсказание\n",
      " [[0.        ]\n",
      " [1.673769  ]\n",
      " [0.70362523]]\n",
      "error\n",
      " [[ 0.125     ]\n",
      " [-0.02100096]\n",
      " [-0.0732993 ]]\n",
      "\n",
      "8 текущее предсказание\n",
      " [[0.        ]\n",
      " [1.76806926]\n",
      " [0.75077536]]\n",
      "error\n",
      " [[ 0.125     ]\n",
      " [-0.01815431]\n",
      " [-0.06984913]]\n",
      "\n",
      "9 текущее предсказание\n",
      " [[0.        ]\n",
      " [1.8560727 ]\n",
      " [0.79477708]]\n",
      "error\n",
      " [[ 0.125     ]\n",
      " [-0.01579941]\n",
      " [-0.06668851]]\n"
     ]
    }
   ],
   "source": [
    "tries = 10 # кол-во попыток\n",
    "alpha = 0.5 # скорость обучения\n",
    "test_input = np.array([1,0]) # тестовая выборка из одного объекта\n",
    "\n",
    "# закрепим ГСЧ, чтобы знать, в какую сторону улучшать наши веса в будущем цикле\n",
    "np.random.seed(50)\n",
    "weights = np.random.uniform(0,1, size=(2,1))\n",
    "print('первоначальные веса:\\n', weights)\n",
    "\n",
    "for x in range(tries):\n",
    "    # умножаем тренировочные данные на веса, получаем результат\n",
    "    dot_product = np.dot(training_inputs, weights)\n",
    "    print(f'\\n{x} текущее предсказание\\n', dot_product)\n",
    "    \n",
    "    # activation by sigmoid получаем результат активации нейрона через сигмоид\n",
    "    output = sigmoid(dot_product)\n",
    "    #print('активация сигмоидом:', output)\n",
    "    \n",
    "    # вычисляем ошибку\n",
    "    error = - (training_outputs-output) * output * (1-output)\n",
    "    print('error\\n', error)\n",
    "    \n",
    "    # пример расчёта поправки к текущим весам, коэф-т, на который надо умножить текущие веса, чтобы приблизиться к решению\n",
    "    adj = np.dot(training_outputs.transpose(), error)\n",
    "    #print('adjustive coefficient to correct weights', adj)\n",
    "    \n",
    "    # рассчитываем новые веса по скорректированному коэф-ту \n",
    "    weights = weights - alpha * adj\n",
    "    #print('new weights\\n', weights)"
   ]
  },
  {
   "cell_type": "code",
   "execution_count": 204,
   "metadata": {},
   "outputs": [
    {
     "name": "stdout",
     "output_type": "stream",
     "text": [
      "\n",
      "текущий результат?\n",
      " [[0.        ]\n",
      " [2.01039655]\n",
      " [0.62991393]]\n",
      "weights?\n",
      " [[1.42603607]\n",
      " [0.67546738]]\n",
      "\n",
      "\n",
      "подаём наблюдения, по которому надо предсказать метку обученным нейроном:\n",
      " [1 0]\n",
      "получаем предсказанный ответ:\n",
      " [0.80628294]\n"
     ]
    }
   ],
   "source": [
    "print('\\nтекущий результат?\\n', dot_product)\n",
    "print('weights?\\n', weights)\n",
    "print('\\n')\n",
    "print('подаём наблюдения, по которому надо предсказать метку обученным нейроном:\\n',test_input)\n",
    "test_output = sigmoid(np.dot(test_input, weights))\n",
    "print('получаем предсказанный ответ:\\n',test_output)"
   ]
  },
  {
   "cell_type": "code",
   "execution_count": null,
   "metadata": {},
   "outputs": [],
   "source": []
  }
 ],
 "metadata": {
  "kernelspec": {
   "display_name": "Python 3",
   "language": "python",
   "name": "python3"
  },
  "language_info": {
   "codemirror_mode": {
    "name": "ipython",
    "version": 3
   },
   "file_extension": ".py",
   "mimetype": "text/x-python",
   "name": "python",
   "nbconvert_exporter": "python",
   "pygments_lexer": "ipython3",
   "version": "3.7.4"
  }
 },
 "nbformat": 4,
 "nbformat_minor": 2
}
