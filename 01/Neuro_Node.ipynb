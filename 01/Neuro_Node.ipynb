{
 "cells": [
  {
   "cell_type": "code",
   "execution_count": 1,
   "metadata": {},
   "outputs": [],
   "source": [
    "import numpy as np\n",
    "import pandas as pd"
   ]
  },
  {
   "cell_type": "code",
   "execution_count": 193,
   "metadata": {},
   "outputs": [],
   "source": [
    "def sigmoid(x):\n",
    "    return 1 / (1 + np.exp(-x))"
   ]
  },
  {
   "cell_type": "code",
   "execution_count": 181,
   "metadata": {},
   "outputs": [],
   "source": [
    "# выборка наблюдений и выборка меток (таргет)\n",
    "training_inputs=np.array([[0,0],\n",
    "                          [1,1],\n",
    "                          [0,1]])\n",
    "training_outputs = np.array([[0],\n",
    "                             [1],\n",
    "                             [1]])"
   ]
  },
  {
   "cell_type": "code",
   "execution_count": 194,
   "metadata": {},
   "outputs": [
    {
     "data": {
      "text/plain": [
       "array([[0.77132064],\n",
       "       [0.02075195]])"
      ]
     },
     "execution_count": 194,
     "metadata": {},
     "output_type": "execute_result"
    }
   ],
   "source": [
    "# закрепим ГСЧ, чтобы знать, в какую сторону улучшать наши веса в будущем цикле\n",
    "np.random.seed(10)\n",
    "weights = np.random.uniform(0,1, size=(2,1))\n",
    "weights"
   ]
  },
  {
   "cell_type": "code",
   "execution_count": 182,
   "metadata": {},
   "outputs": [
    {
     "name": "stdout",
     "output_type": "stream",
     "text": [
      "входные данные: наблюдения и метки\n",
      "[0 0] [0]\n",
      "[1 1] [1]\n",
      "[0 1] [1]\n"
     ]
    }
   ],
   "source": [
    "print('входные данные: наблюдения и метки')\n",
    "for x in list(zip(training_inputs, training_outputs)):\n",
    "    print(x[0], x[1])"
   ]
  },
  {
   "cell_type": "code",
   "execution_count": 200,
   "metadata": {},
   "outputs": [
    {
     "name": "stdout",
     "output_type": "stream",
     "text": [
      "0 текущее предсказание\n",
      " [[ 0.        ]\n",
      " [-0.35645135]\n",
      " [-0.44326123]]\n",
      "error\n",
      " [[ 0.125     ]\n",
      " [-0.14247164]\n",
      " [-0.14501825]]\n",
      "1 текущее предсказание\n",
      " [[ 0.        ]\n",
      " [-0.06896146]\n",
      " [-0.29951629]]\n",
      "error\n",
      " [[ 0.125     ]\n",
      " [-0.12915477]\n",
      " [-0.14040844]]\n",
      "2 текущее предсказание\n",
      " [[ 0.        ]\n",
      " [ 0.20060175]\n",
      " [-0.16473468]]\n",
      "error\n",
      " [[ 0.125     ]\n",
      " [-0.11137999]\n",
      " [-0.13435909]]\n",
      "3 текущее предсказание\n",
      " [[ 0.        ]\n",
      " [ 0.44634083]\n",
      " [-0.04186514]]\n",
      "error\n",
      " [[ 0.125     ]\n",
      " [-0.0928558 ]\n",
      " [-0.12756029]]\n",
      "4 текущее предсказание\n",
      " [[0.        ]\n",
      " [0.66675692]\n",
      " [0.0683429 ]]\n",
      "error\n",
      " [[ 0.125     ]\n",
      " [-0.07603723]\n",
      " [-0.12058936]]\n",
      "5 текущее предсказание\n",
      " [[0.        ]\n",
      " [0.86338351]\n",
      " [0.1666562 ]]\n",
      "error\n",
      " [[ 0.125     ]\n",
      " [-0.06189003]\n",
      " [-0.11381591]]\n",
      "6 текущее предсказание\n",
      " [[0.        ]\n",
      " [1.03908946]\n",
      " [0.25450917]]\n",
      "error\n",
      " [[ 0.125     ]\n",
      " [-0.0504449 ]\n",
      " [-0.10742939]]\n",
      "7 текущее предсказание\n",
      " [[0.        ]\n",
      " [1.19696375]\n",
      " [0.33344632]]\n",
      "error\n",
      " [[ 0.125     ]\n",
      " [-0.04134161]\n",
      " [-0.1015029 ]]\n",
      "8 текущее предсказание\n",
      " [[0.        ]\n",
      " [1.33980827]\n",
      " [0.40486858]]\n",
      "error\n",
      " [[ 0.125     ]\n",
      " [-0.03413397]\n",
      " [-0.09604581]]\n",
      "9 текущее предсказание\n",
      " [[0.        ]\n",
      " [1.46998805]\n",
      " [0.46995847]]\n",
      "error\n",
      " [[ 0.125     ]\n",
      " [-0.02841485]\n",
      " [-0.09103671]]\n",
      "\n",
      "текущий результат?\n",
      " [[0.        ]\n",
      " [1.46998805]\n",
      " [0.46995847]]\n",
      "weights?\n",
      " [[1.05975535]\n",
      " [0.52968424]]\n",
      "\n",
      "\n",
      "подаём наблюдения, по которому надо предсказать метку обученным нейроном:\n",
      " [1 0]\n",
      "получаем предсказанный ответ:\n",
      " [0.74264379]\n"
     ]
    }
   ],
   "source": [
    "tries = 10\n",
    "alpha = 0.5\n",
    "test_input = np.array([1,0])\n",
    "\n",
    "np.random.seed(100)\n",
    "weights = np.random.uniform(-1,1, size=(2,1))\n",
    "\n",
    "for x in range(tries):\n",
    "    # умножаем тренировочные данные на веса, получаем результат\n",
    "    dot_product = np.dot(training_inputs, weights)\n",
    "    print(f'{x} текущее предсказание\\n', dot_product)\n",
    "    \n",
    "    # activation by sigmoid получаем результатаы\n",
    "    output = sigmoid(dot_product)\n",
    "    #print('активация сигмоидом:', output)\n",
    "    \n",
    "    # вычисляем ошибку\n",
    "    error = - (training_outputs-output) * output * (1-output)\n",
    "    print('error\\n', error)\n",
    "    \n",
    "    # пример расчёта поправки к текущим весам, коэф-т, на который надо умножить текущие веса, чтобы приблизиться к решению\n",
    "    adj = np.dot(training_outputs.transpose(), error)\n",
    "    #print('adjustive coefficient to correct weights', adj)\n",
    "    \n",
    "    # рассчитываем новые веса по скорректированному коэф-ту \n",
    "    weights = weights - alpha * adj\n",
    "    #print('new weights\\n', weights)"
   ]
  },
  {
   "cell_type": "code",
   "execution_count": 201,
   "metadata": {},
   "outputs": [
    {
     "name": "stdout",
     "output_type": "stream",
     "text": [
      "\n",
      "текущий результат?\n",
      " [[0.        ]\n",
      " [1.46998805]\n",
      " [0.46995847]]\n",
      "weights?\n",
      " [[1.05975535]\n",
      " [0.52968424]]\n",
      "\n",
      "\n",
      "подаём наблюдения, по которому надо предсказать метку обученным нейроном:\n",
      " [1 0]\n",
      "получаем предсказанный ответ:\n",
      " [0.74264379]\n"
     ]
    }
   ],
   "source": [
    "print('\\nтекущий результат?\\n', dot_product)\n",
    "print('weights?\\n', weights)\n",
    "print('\\n')\n",
    "print('подаём наблюдения, по которому надо предсказать метку обученным нейроном:\\n',test_input)\n",
    "test_output = sigmoid(np.dot(test_input, weights))\n",
    "print('получаем предсказанный ответ:\\n',test_output)"
   ]
  },
  {
   "cell_type": "code",
   "execution_count": null,
   "metadata": {},
   "outputs": [],
   "source": []
  }
 ],
 "metadata": {
  "kernelspec": {
   "display_name": "Python 3",
   "language": "python",
   "name": "python3"
  },
  "language_info": {
   "codemirror_mode": {
    "name": "ipython",
    "version": 3
   },
   "file_extension": ".py",
   "mimetype": "text/x-python",
   "name": "python",
   "nbconvert_exporter": "python",
   "pygments_lexer": "ipython3",
   "version": "3.7.4"
  }
 },
 "nbformat": 4,
 "nbformat_minor": 2
}
